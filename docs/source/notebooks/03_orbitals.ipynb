{
 "cells": [
  {
   "cell_type": "markdown",
   "metadata": {},
   "source": [
    "#### Find the base directory"
   ]
  },
  {
   "cell_type": "code",
   "execution_count": 19,
   "metadata": {
    "scrolled": true
   },
   "outputs": [],
   "source": [
    "import os\n",
    "base = os.getcwd().replace('\\\\', '/').replace('/examples', '')\n",
    "static = os.sep.join([base, 'exatomic', '_static'])"
   ]
  },
  {
   "cell_type": "markdown",
   "metadata": {},
   "source": [
    "#### Provided the outputs are good and the parser is implemented to handle the specifics of the input arguments, this is what the API looks like for orbital viewing\n",
    "<li> First you parse the output (must contain full basis set info and full C matrix)\n",
    "<li> The basis set info is accessible as a gaussian_basis_set attribute and the C matrix as a momatrix attribute\n",
    "<li> It is an Editor object, which must be converted to a Universe object by .to_universe()\n",
    "<li> The Universe has an add_molecular_orbitals method which by default requires no arguments\n",
    "<li> add_molecular_orbitals optionally can accept the following arguments:\n",
    "<li> params (tup/list): specify numerical grid parameters (eg. to make high resolution surfaces)\n",
    "<li> vector (int/list/range): specify the molecular orbitals you would like to view\n",
    "<li> Don't forget to see the actual docstrings for each function"
   ]
  },
  {
   "cell_type": "markdown",
   "metadata": {},
   "source": [
    "## Gaussian API"
   ]
  },
  {
   "cell_type": "code",
   "execution_count": 2,
   "metadata": {
    "collapsed": true
   },
   "outputs": [],
   "source": [
    "gaussian = exatomic.gaussian.Output(os.sep.join([static, 'gaussian.uo2.out'])).to_universe()"
   ]
  },
  {
   "cell_type": "code",
   "execution_count": 3,
   "metadata": {
    "scrolled": true
   },
   "outputs": [
    {
     "name": "stdout",
     "output_type": "stream",
     "text": [
      "Warning: not extensively tested. Please be careful.\n",
      "Compiling basis functions, may take a while.\n",
      "Took 15.04s to compile basis functions with 33172 characters, 250 primitives and 141 contracted functions\n"
     ]
    }
   ],
   "source": [
    "gaussian.add_molecular_orbitals(vector=range(20))"
   ]
  },
  {
   "cell_type": "markdown",
   "metadata": {},
   "source": [
    "#### Visually inspect in the widget (access the surfaces in fields not orbitals) -- the widget is general purpose, only the information provided in the universe will behave as expected. So don't be surprised if many options don't do anything, that is expected. You can however click on display and check spheres for a better looking ball-and-stick model "
   ]
  },
  {
   "cell_type": "code",
   "execution_count": 9,
   "metadata": {},
   "outputs": [
    {
     "data": {
      "text/plain": [
       "<exatomic.container.Universe at 0x1ed1f6e3390>"
      ]
     },
     "execution_count": 9,
     "metadata": {},
     "output_type": "execute_result"
    }
   ],
   "source": [
    "gaussian"
   ]
  },
  {
   "cell_type": "markdown",
   "metadata": {},
   "source": [
    "#### Say you want to put surface 12 in a publication\n",
    "Image will be saved in the same location as the notebook\n",
    "\n",
    "Specify higher resolution field parameters: (rmin, rmax, nr) so minimum in x,y,z, maximum in x,y,z and number of points\n",
    "\n",
    "Be careful with nr, remember it is nr^3 points and may be memory-intensive "
   ]
  },
  {
   "cell_type": "code",
   "execution_count": 4,
   "metadata": {},
   "outputs": [
    {
     "name": "stdout",
     "output_type": "stream",
     "text": [
      "(-6, 6, 150)\n",
      "<class 'tuple'>\n"
     ]
    }
   ],
   "source": [
    "gaussian.update_molecular_orbitals(field_params=(-6, 6, 100), vector=12)"
   ]
  },
  {
   "cell_type": "markdown",
   "metadata": {},
   "source": [
    "#### Orient the scene the way you want it to look then click the save image bar on the widget GUI controls"
   ]
  },
  {
   "cell_type": "code",
   "execution_count": 5,
   "metadata": {},
   "outputs": [
    {
     "data": {
      "text/plain": [
       "<exatomic.container.Universe at 0x249a5c20fd0>"
      ]
     },
     "execution_count": 5,
     "metadata": {},
     "output_type": "execute_result"
    }
   ],
   "source": [
    "gaussian"
   ]
  },
  {
   "cell_type": "code",
   "execution_count": null,
   "metadata": {
    "collapsed": true
   },
   "outputs": [],
   "source": []
  },
  {
   "cell_type": "markdown",
   "metadata": {},
   "source": [
    "## Molcas API"
   ]
  },
  {
   "cell_type": "markdown",
   "metadata": {},
   "source": [
    "#### Everything done above can be done with other supported QM codes, just access the appropriate Editor objects"
   ]
  },
  {
   "cell_type": "code",
   "execution_count": 6,
   "metadata": {
    "collapsed": true
   },
   "outputs": [],
   "source": [
    "molcas = exatomic.molcas.Output(os.sep.join([static, 'molcas.uo2.out'])).to_universe()"
   ]
  },
  {
   "cell_type": "markdown",
   "metadata": {},
   "source": [
    "#### Molcas prints out Orb files which contain full C matrix coefficients, just supply the *Orb file you want"
   ]
  },
  {
   "cell_type": "code",
   "execution_count": 7,
   "metadata": {
    "collapsed": true
   },
   "outputs": [],
   "source": [
    "molcas.momatrix = exatomic.molcas.Orb(os.sep.join([static, 'molcas.uo2.orb'])).momatrix"
   ]
  },
  {
   "cell_type": "markdown",
   "metadata": {},
   "source": [
    "#### This was an all-electron calculation and didn't use an ECP, so the vector indices are different than above but roughly correspond to similar orbitals, eg. the first d orbital is hidden in the ECP above but not here (and as it uses an ANO generally contracted basis, evaluates many more primitives, taking a bit longer)"
   ]
  },
  {
   "cell_type": "code",
   "execution_count": 11,
   "metadata": {},
   "outputs": [
    {
     "name": "stdout",
     "output_type": "stream",
     "text": [
      "Warning: not extensively tested. Please be careful.\n",
      "Compiling basis functions, may take a while.\n",
      "Took 34.91s to compile basis functions with 133157 characters, 1374 primitives and 69 contracted functions\n"
     ]
    }
   ],
   "source": [
    "molcas.add_molecular_orbitals(vector=range(40, 60))"
   ]
  },
  {
   "cell_type": "code",
   "execution_count": 15,
   "metadata": {},
   "outputs": [
    {
     "data": {
      "text/plain": [
       "<exatomic.container.Universe at 0x249ad2bdd30>"
      ]
     },
     "execution_count": 15,
     "metadata": {},
     "output_type": "execute_result"
    }
   ],
   "source": [
    "molcas"
   ]
  },
  {
   "cell_type": "markdown",
   "metadata": {},
   "source": [
    "## NWChem API"
   ]
  },
  {
   "cell_type": "markdown",
   "metadata": {},
   "source": [
    "#### Hopefully it is becoming clear now"
   ]
  },
  {
   "cell_type": "code",
   "execution_count": 16,
   "metadata": {
    "collapsed": true
   },
   "outputs": [],
   "source": [
    "nwchem = exatomic.nwchem.Output(os.sep.join([static, 'nwchem.uo2.out'])).to_universe()"
   ]
  },
  {
   "cell_type": "code",
   "execution_count": 17,
   "metadata": {},
   "outputs": [
    {
     "name": "stdout",
     "output_type": "stream",
     "text": [
      "Warning: not extensively tested. Please be careful.\n",
      "Compiling basis functions, may take a while.\n",
      "Took 18.91s to compile basis functions with 33042 characters, 258 primitives and 139 contracted functions\n"
     ]
    }
   ],
   "source": [
    "nwchem.add_molecular_orbitals(vector=range(20))"
   ]
  },
  {
   "cell_type": "markdown",
   "metadata": {},
   "source": [
    "#### Still some bugs to work out, the basis function specification looks messed up for the 2 U f pi bonding orbitals (vectors 8 and 9)\n",
    "#### but the point is all 3 QM codes shown here use wildly different basis function ordering schemes and the point of this code is to generalize and make agnostic the internal workings of those codes by well defined data frame specifications of all of this data"
   ]
  },
  {
   "cell_type": "code",
   "execution_count": 18,
   "metadata": {},
   "outputs": [
    {
     "data": {
      "text/plain": [
       "<exatomic.container.Universe at 0x249b2280438>"
      ]
     },
     "execution_count": 18,
     "metadata": {},
     "output_type": "execute_result"
    }
   ],
   "source": [
    "nwchem"
   ]
  },
  {
   "cell_type": "markdown",
   "metadata": {},
   "source": [
    "## Developer details"
   ]
  },
  {
   "cell_type": "markdown",
   "metadata": {},
   "source": [
    "#### If you are interested in helping, that's great!\n",
    "\n",
    "The Editor objects deal with file IO and contain parse_methods specific to each dataframe.\n",
    "\n",
    "In order to add_molecular_orbitals, the Editor must parse the Atom, GaussianBasisSet, BasisSetOrder and MOMatrix dataframes.\n",
    "\n",
    "The requirements for these dataframes are specified in their docstrings.\n",
    "\n",
    "The actual interface with the widget occurs on the Universe object, so the Editor must be converted to a Universe.\n",
    "\n",
    "Therefore, it makes sense to subclass the exatomic.Editor to gain access to the .to_universe() method."
   ]
  },
  {
   "cell_type": "code",
   "execution_count": null,
   "metadata": {
    "collapsed": true
   },
   "outputs": [],
   "source": []
  }
 ],
 "metadata": {
  "anaconda-cloud": {},
  "kernelspec": {
   "display_name": "Python 3",
   "language": "python",
   "name": "python3"
  },
  "language_info": {
   "codemirror_mode": {
    "name": "ipython",
    "version": 3
   },
   "file_extension": ".py",
   "mimetype": "text/x-python",
   "name": "python",
   "nbconvert_exporter": "python",
   "pygments_lexer": "ipython3",
   "version": "3.6.2"
  }
 },
 "nbformat": 4,
 "nbformat_minor": 1
}
