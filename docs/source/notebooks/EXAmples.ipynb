{
 "cells": [
  {
   "cell_type": "markdown",
   "metadata": {},
   "source": [
    "# XYZ Example"
   ]
  },
  {
   "cell_type": "code",
   "execution_count": 1,
   "metadata": {},
   "outputs": [],
   "source": [
    "import exa\n",
    "import exatomic\n",
    "import bz2, os\n",
    "if not hasattr(bz2, \"open\"):\n",
    "    bz2.open = bz2.BZ2File"
   ]
  },
  {
   "cell_type": "code",
   "execution_count": 2,
   "metadata": {},
   "outputs": [],
   "source": [
    "path = os.path.abspath(os.path.join(exatomic.__file__, \"../static/H2O.traj.xyz.bz2\"))\n",
    "assert os.path.exists(path)"
   ]
  },
  {
   "cell_type": "code",
   "execution_count": 3,
   "metadata": {},
   "outputs": [],
   "source": [
    "with bz2.open(path) as f:\n",
    "    xyz = exatomic.XYZ(f.read().decode(\"utf-8\"))"
   ]
  },
  {
   "cell_type": "code",
   "execution_count": 4,
   "metadata": {},
   "outputs": [
    {
     "data": {
      "text/plain": [
       "<function exa.core.numerical.BaseDataFrame.cardinal_groupby>"
      ]
     },
     "execution_count": 4,
     "metadata": {},
     "output_type": "execute_result"
    }
   ],
   "source": [
    "exatomic.Frame.cardinal_groupby"
   ]
  },
  {
   "cell_type": "code",
   "execution_count": 5,
   "metadata": {},
   "outputs": [
    {
     "data": {
      "text/plain": [
       "     0: 192\n",
       "     1: frame: 500\n",
       "     2: O   10.28508956   8.14460938   13.52695208\n",
       "     3: O   11.35249854   11.35175769   9.48063013\n",
       "     4: O   12.13309196   8.16159606   4.40491549\n",
       "     5: O   13.08212337   0.82074230   8.49852496\n",
       "     6: O   11.61851733   6.25548970   6.55479391\n",
       "     7: O   9.43623192   4.76428163   2.98272836\n",
       "     8: O   13.09122527 -0.60466753   1.95264245\n",
       "     9: O   12.99597287   5.17908995   0.11265448\n",
       "    10: O   13.29511832   4.87851042   2.89701179\n",
       "    11: O   10.56439077   0.71735641   5.34540593\n",
       "    12: O   10.41696122   5.45547537   13.11583214\n",
       "    13: O   10.41521492   14.66807583   12.16505443\n",
       "    14: O   9.79972567   13.64305417   2.74815874\n",
       "    15: O   10.92470943   12.03699287 -0.09100679\n",
       "    16: O   11.27952462   4.38470610   4.71525839\n",
       "    17: O   8.82656365   3.33579726   9.57826384\n",
       "    18: O   7.65368909   6.38064077   8.63812265\n",
       "    19: O   9.16772599   10.18301074   8.11571615\n",
       "    20: O   7.50128525   6.32348933   5.91856079\n",
       "    21: O   8.28431290 -0.05608673   6.62602153\n",
       "    22: O   7.53446484   2.46018957   4.18943868\n",
       "    23: O   8.04930406   4.12746641 -0.43719846\n",
       "    24: O   7.88705747   2.59446370   7.14906305\n",
       "    25: O   3.72240029   6.66846177   9.09882676\n",
       "    26: O   9.39871306   7.52695048   3.46717148\n",
       "    27: O   9.61334847 -1.54030010   2.75150845\n",
       "    28: O   7.33057179   11.60147773   1.33610012\n",
       "    29: O   7.04709006   12.50187750   10.33636710\n",
       "  ...\n",
       "227920: H   3.17331254   5.77435924   14.16805365\n",
       "227921: H   1.06462020   7.67988350   8.23113031\n",
       "227922: H   5.43790660   3.45040706   3.37062789\n",
       "227923: H   7.34993977   5.46320140   2.27265347\n",
       "227924: H   4.04190859   1.08444328 -2.90509766\n",
       "227925: H   2.89020124   0.72888724   7.73830498\n",
       "227926: H   6.33851804   1.84111776   10.04976322\n",
       "227927: H   4.96879911   16.98678384   11.64603469\n",
       "227928: H   6.65660814   10.31017269   1.41061396\n",
       "227929: H -5.24926451   5.04044479   4.71310992\n",
       "227930: H   6.56807632   11.29047864   2.64312710\n",
       "227931: H   8.07983775   1.85377575   13.18473137\n",
       "227932: H   0.21673308   3.95647248   5.60798505\n",
       "227933: H   2.82083632   4.16212770   10.50443467\n",
       "227934: H -5.65799256   9.26832311 -0.69541131\n",
       "227935: H -6.62025347   10.65355760 -0.78536133\n",
       "227936: H   1.48511721   4.21490282   6.32348933\n",
       "227937: H   7.66660109   0.93015556   14.42835729\n",
       "227938: H   1.18683432   7.96532320   6.55156591\n",
       "227939: H   2.87432584   7.29098912   14.57509890\n",
       "227940: H   5.97761728   6.13298453   1.87578964\n",
       "227941: H   6.04990327   3.24458779   2.04330157\n",
       "227942: H   3.57922006 -0.35624345 -2.44128726\n",
       "227943: H -3.88712344   4.80109139   4.02831396\n",
       "227944: H -1.25442119   5.64846732   2.59449545\n",
       "227945: H   5.15913457   2.78450812   10.49242229\n",
       "227946: H   3.73656644   16.44876653   12.33820213\n",
       "227947: H   1.84052508   5.15303842   9.75342242\n",
       "227948: H -0.71357806   4.52787046   1.57043161\n",
       "227949: H   3.75299748   1.08580857   6.38535047"
      ]
     },
     "execution_count": 5,
     "metadata": {},
     "output_type": "execute_result"
    }
   ],
   "source": [
    "xyz"
   ]
  },
  {
   "cell_type": "code",
   "execution_count": 6,
   "metadata": {},
   "outputs": [],
   "source": [
    "xyz.parse_atom()"
   ]
  },
  {
   "cell_type": "code",
   "execution_count": 7,
   "metadata": {},
   "outputs": [
    {
     "name": "stdout",
     "output_type": "stream",
     "text": [
      "<class 'pandas.core.frame.DataFrame'>\n"
     ]
    },
    {
     "ename": "AttributeError",
     "evalue": "'DataFrame' object has no attribute 'cardinal_groupby'",
     "output_type": "error",
     "traceback": [
      "\u001b[1;31m---------------------------------------------------------------------------\u001b[0m",
      "\u001b[1;31mAttributeError\u001b[0m                            Traceback (most recent call last)",
      "\u001b[1;32m<ipython-input-7-93347bd53e90>\u001b[0m in \u001b[0;36m<module>\u001b[1;34m()\u001b[0m\n\u001b[1;32m----> 1\u001b[1;33m \u001b[0mxyz\u001b[0m\u001b[1;33m.\u001b[0m\u001b[0mparse_frame\u001b[0m\u001b[1;33m(\u001b[0m\u001b[1;33m)\u001b[0m\u001b[1;33m\u001b[0m\u001b[0m\n\u001b[0m",
      "\u001b[1;32mc:\\users\\adam\\exa-dev\\exatomic\\exatomic\\core\\editor.py\u001b[0m in \u001b[0;36mparse_frame\u001b[1;34m(self)\u001b[0m\n\u001b[0;32m     32\u001b[0m         \u001b[1;33m:\u001b[0m\u001b[1;32mclass\u001b[0m\u001b[1;33m:\u001b[0m\u001b[0;31m`\u001b[0m\u001b[1;33m~\u001b[0m\u001b[0mexatomic\u001b[0m\u001b[1;33m.\u001b[0m\u001b[0matom\u001b[0m\u001b[1;33m.\u001b[0m\u001b[0mAtom\u001b[0m\u001b[0;31m`\u001b[0m \u001b[0mobject\u001b[0m\u001b[1;33m.\u001b[0m\u001b[1;33m\u001b[0m\u001b[0m\n\u001b[0;32m     33\u001b[0m         \"\"\"\n\u001b[1;32m---> 34\u001b[1;33m         \u001b[0mself\u001b[0m\u001b[1;33m.\u001b[0m\u001b[0mframe\u001b[0m \u001b[1;33m=\u001b[0m \u001b[0mcompute_frame_from_atom\u001b[0m\u001b[1;33m(\u001b[0m\u001b[0mself\u001b[0m\u001b[1;33m.\u001b[0m\u001b[0matom\u001b[0m\u001b[1;33m)\u001b[0m\u001b[1;33m\u001b[0m\u001b[0m\n\u001b[0m\u001b[0;32m     35\u001b[0m \u001b[1;33m\u001b[0m\u001b[0m\n\u001b[0;32m     36\u001b[0m \u001b[1;33m\u001b[0m\u001b[0m\n",
      "\u001b[1;32mc:\\users\\adam\\exa-dev\\exatomic\\exatomic\\core\\frame.py\u001b[0m in \u001b[0;36mcompute_frame_from_atom\u001b[1;34m(atom)\u001b[0m\n\u001b[0;32m    115\u001b[0m     \"\"\"\n\u001b[0;32m    116\u001b[0m     \u001b[0mprint\u001b[0m\u001b[1;33m(\u001b[0m\u001b[0mtype\u001b[0m\u001b[1;33m(\u001b[0m\u001b[0matom\u001b[0m\u001b[1;33m)\u001b[0m\u001b[1;33m)\u001b[0m\u001b[1;33m\u001b[0m\u001b[0m\n\u001b[1;32m--> 117\u001b[1;33m     \u001b[0mframe\u001b[0m \u001b[1;33m=\u001b[0m \u001b[0matom\u001b[0m\u001b[1;33m.\u001b[0m\u001b[0mcardinal_groupby\u001b[0m\u001b[1;33m(\u001b[0m\u001b[1;33m)\u001b[0m\u001b[1;33m.\u001b[0m\u001b[0msize\u001b[0m\u001b[1;33m(\u001b[0m\u001b[1;33m)\u001b[0m\u001b[1;33m.\u001b[0m\u001b[0mto_frame\u001b[0m\u001b[1;33m(\u001b[0m\u001b[1;33m)\u001b[0m\u001b[1;33m\u001b[0m\u001b[0m\n\u001b[0m\u001b[0;32m    118\u001b[0m     \u001b[0mframe\u001b[0m\u001b[1;33m.\u001b[0m\u001b[0mindex\u001b[0m \u001b[1;33m=\u001b[0m \u001b[0mframe\u001b[0m\u001b[1;33m.\u001b[0m\u001b[0mindex\u001b[0m\u001b[1;33m.\u001b[0m\u001b[0mastype\u001b[0m\u001b[1;33m(\u001b[0m\u001b[0mnp\u001b[0m\u001b[1;33m.\u001b[0m\u001b[0mint64\u001b[0m\u001b[1;33m)\u001b[0m\u001b[1;33m\u001b[0m\u001b[0m\n\u001b[0;32m    119\u001b[0m     \u001b[0mframe\u001b[0m\u001b[1;33m.\u001b[0m\u001b[0mcolumns\u001b[0m \u001b[1;33m=\u001b[0m \u001b[1;33m[\u001b[0m\u001b[1;34m'atom_count'\u001b[0m\u001b[1;33m]\u001b[0m\u001b[1;33m\u001b[0m\u001b[0m\n",
      "\u001b[1;32m~\\Miniconda3\\lib\\site-packages\\pandas\\core\\generic.py\u001b[0m in \u001b[0;36m__getattr__\u001b[1;34m(self, name)\u001b[0m\n\u001b[0;32m   3079\u001b[0m             \u001b[1;32mif\u001b[0m \u001b[0mname\u001b[0m \u001b[1;32min\u001b[0m \u001b[0mself\u001b[0m\u001b[1;33m.\u001b[0m\u001b[0m_info_axis\u001b[0m\u001b[1;33m:\u001b[0m\u001b[1;33m\u001b[0m\u001b[0m\n\u001b[0;32m   3080\u001b[0m                 \u001b[1;32mreturn\u001b[0m \u001b[0mself\u001b[0m\u001b[1;33m[\u001b[0m\u001b[0mname\u001b[0m\u001b[1;33m]\u001b[0m\u001b[1;33m\u001b[0m\u001b[0m\n\u001b[1;32m-> 3081\u001b[1;33m             \u001b[1;32mreturn\u001b[0m \u001b[0mobject\u001b[0m\u001b[1;33m.\u001b[0m\u001b[0m__getattribute__\u001b[0m\u001b[1;33m(\u001b[0m\u001b[0mself\u001b[0m\u001b[1;33m,\u001b[0m \u001b[0mname\u001b[0m\u001b[1;33m)\u001b[0m\u001b[1;33m\u001b[0m\u001b[0m\n\u001b[0m\u001b[0;32m   3082\u001b[0m \u001b[1;33m\u001b[0m\u001b[0m\n\u001b[0;32m   3083\u001b[0m     \u001b[1;32mdef\u001b[0m \u001b[0m__setattr__\u001b[0m\u001b[1;33m(\u001b[0m\u001b[0mself\u001b[0m\u001b[1;33m,\u001b[0m \u001b[0mname\u001b[0m\u001b[1;33m,\u001b[0m \u001b[0mvalue\u001b[0m\u001b[1;33m)\u001b[0m\u001b[1;33m:\u001b[0m\u001b[1;33m\u001b[0m\u001b[0m\n",
      "\u001b[1;31mAttributeError\u001b[0m: 'DataFrame' object has no attribute 'cardinal_groupby'"
     ]
    }
   ],
   "source": [
    "xyz.parse_frame()"
   ]
  },
  {
   "cell_type": "code",
   "execution_count": 14,
   "metadata": {},
   "outputs": [],
   "source": [
    "uni = xyz.to_universe()"
   ]
  },
  {
   "cell_type": "code",
   "execution_count": 12,
   "metadata": {},
   "outputs": [
    {
     "data": {
      "text/plain": [
       "227950"
      ]
     },
     "execution_count": 12,
     "metadata": {},
     "output_type": "execute_result"
    }
   ],
   "source": [
    "xyz.atom.groupby('frame').ngroups*(192+2)"
   ]
  },
  {
   "cell_type": "code",
   "execution_count": 13,
   "metadata": {},
   "outputs": [
    {
     "data": {
      "text/plain": [
       "227950"
      ]
     },
     "execution_count": 13,
     "metadata": {},
     "output_type": "execute_result"
    }
   ],
   "source": [
    "len(xyz)"
   ]
  },
  {
   "cell_type": "code",
   "execution_count": 20,
   "metadata": {},
   "outputs": [
    {
     "data": {
      "text/plain": [
       "<exatomic.core.universe.Universe at 0x2225a497668>"
      ]
     },
     "execution_count": 20,
     "metadata": {},
     "output_type": "execute_result"
    }
   ],
   "source": [
    "uni"
   ]
  },
  {
   "cell_type": "code",
   "execution_count": null,
   "metadata": {},
   "outputs": [],
   "source": []
  }
 ],
 "metadata": {
  "kernelspec": {
   "display_name": "Python 3",
   "language": "python",
   "name": "python3"
  },
  "language_info": {
   "codemirror_mode": {
    "name": "ipython",
    "version": 3
   },
   "file_extension": ".py",
   "mimetype": "text/x-python",
   "name": "python",
   "nbconvert_exporter": "python",
   "pygments_lexer": "ipython3",
   "version": "3.5.2"
  }
 },
 "nbformat": 4,
 "nbformat_minor": 2
}
