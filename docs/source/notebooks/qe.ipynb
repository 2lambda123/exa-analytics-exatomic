{
 "cells": [
  {
   "cell_type": "markdown",
   "metadata": {
    "collapsed": true
   },
   "source": [
    "# Support for Quantum ESPRESSO in exatomic"
   ]
  },
  {
   "cell_type": "code",
   "execution_count": 1,
   "metadata": {
    "collapsed": true
   },
   "outputs": [],
   "source": [
    "import os\n",
    "import exatomic\n",
    "from exatomic import qe\n",
    "\n",
    "\n",
    "def get_path(name):\n",
    "    \"\"\"Helper function for building paths\"\"\"\n",
    "    return os.path.abspath(os.path.join(os.path.abspath(exatomic.__file__), \"../static/qe/qe.\"+name+\".bz2\"))"
   ]
  },
  {
   "cell_type": "code",
   "execution_count": 2,
   "metadata": {
    "collapsed": true
   },
   "outputs": [],
   "source": [
    "#path = os.path.abspath(os.path.join(os.path.abspath(exatomic.__file__), \"../static/qe/qe.inp.bz2\"))\n",
    "symbols = qe.parse_symbols_from_input(get_path(\"inp\"))"
   ]
  },
  {
   "cell_type": "code",
   "execution_count": 3,
   "metadata": {
    "collapsed": true
   },
   "outputs": [],
   "source": [
    "pos = qe.parse_xyz(get_path(\"pos\"), symbols)\n",
    "vel = qe.parse_xyz(get_path(\"vel\"), symbols)\n",
    "force = qe.parse_xyz(get_path(\"for\"), symbols)"
   ]
  },
  {
   "cell_type": "code",
   "execution_count": 4,
   "metadata": {
    "collapsed": true
   },
   "outputs": [],
   "source": [
    "evp = qe.parse_evp(get_path(\"evp\"), symbols)"
   ]
  },
  {
   "cell_type": "code",
   "execution_count": 5,
   "metadata": {},
   "outputs": [
    {
     "data": {
      "text/html": [
       "<div>\n",
       "<style>\n",
       "    .dataframe thead tr:only-child th {\n",
       "        text-align: right;\n",
       "    }\n",
       "\n",
       "    .dataframe thead th {\n",
       "        text-align: left;\n",
       "    }\n",
       "\n",
       "    .dataframe tbody tr th {\n",
       "        vertical-align: top;\n",
       "    }\n",
       "</style>\n",
       "<table border=\"1\" class=\"dataframe\">\n",
       "  <thead>\n",
       "    <tr style=\"text-align: right;\">\n",
       "      <th></th>\n",
       "      <th>x</th>\n",
       "      <th>y</th>\n",
       "      <th>z</th>\n",
       "      <th>frame</th>\n",
       "      <th>symbol</th>\n",
       "    </tr>\n",
       "  </thead>\n",
       "  <tbody>\n",
       "    <tr>\n",
       "      <th>0</th>\n",
       "      <td>1.386029</td>\n",
       "      <td>10.148803</td>\n",
       "      <td>2.527119</td>\n",
       "      <td>86300</td>\n",
       "      <td>H</td>\n",
       "    </tr>\n",
       "    <tr>\n",
       "      <th>1</th>\n",
       "      <td>6.298432</td>\n",
       "      <td>0.408980</td>\n",
       "      <td>6.614086</td>\n",
       "      <td>86300</td>\n",
       "      <td>H</td>\n",
       "    </tr>\n",
       "    <tr>\n",
       "      <th>2</th>\n",
       "      <td>2.705972</td>\n",
       "      <td>4.812221</td>\n",
       "      <td>1.851418</td>\n",
       "      <td>86300</td>\n",
       "      <td>H</td>\n",
       "    </tr>\n",
       "    <tr>\n",
       "      <th>3</th>\n",
       "      <td>0.925476</td>\n",
       "      <td>7.572369</td>\n",
       "      <td>3.711328</td>\n",
       "      <td>86300</td>\n",
       "      <td>H</td>\n",
       "    </tr>\n",
       "    <tr>\n",
       "      <th>4</th>\n",
       "      <td>-0.712621</td>\n",
       "      <td>7.029148</td>\n",
       "      <td>6.158907</td>\n",
       "      <td>86300</td>\n",
       "      <td>H</td>\n",
       "    </tr>\n",
       "  </tbody>\n",
       "</table>\n",
       "</div>"
      ],
      "text/plain": [
       "          x          y         z  frame symbol\n",
       "0  1.386029  10.148803  2.527119  86300      H\n",
       "1  6.298432   0.408980  6.614086  86300      H\n",
       "2  2.705972   4.812221  1.851418  86300      H\n",
       "3  0.925476   7.572369  3.711328  86300      H\n",
       "4 -0.712621   7.029148  6.158907  86300      H"
      ]
     },
     "execution_count": 5,
     "metadata": {},
     "output_type": "execute_result"
    }
   ],
   "source": [
    "pos.head()"
   ]
  },
  {
   "cell_type": "code",
   "execution_count": null,
   "metadata": {
    "collapsed": true
   },
   "outputs": [],
   "source": []
  },
  {
   "cell_type": "code",
   "execution_count": null,
   "metadata": {
    "collapsed": true
   },
   "outputs": [],
   "source": []
  },
  {
   "cell_type": "code",
   "execution_count": null,
   "metadata": {
    "collapsed": true
   },
   "outputs": [],
   "source": []
  }
 ],
 "metadata": {
  "kernelspec": {
   "display_name": "Python 3",
   "language": "python",
   "name": "python3"
  },
  "language_info": {
   "codemirror_mode": {
    "name": "ipython",
    "version": 3
   },
   "file_extension": ".py",
   "mimetype": "text/x-python",
   "name": "python",
   "nbconvert_exporter": "python",
   "pygments_lexer": "ipython3",
   "version": "3.6.2"
  }
 },
 "nbformat": 4,
 "nbformat_minor": 2
}
