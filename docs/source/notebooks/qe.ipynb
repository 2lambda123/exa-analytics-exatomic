{
 "cells": [
  {
   "cell_type": "markdown",
   "metadata": {
    "collapsed": true
   },
   "source": [
    "# Support for Quantum ESPRESSO in exatomic"
   ]
  },
  {
   "cell_type": "code",
   "execution_count": 2,
   "metadata": {
    "collapsed": true
   },
   "outputs": [],
   "source": [
    "import os\n",
    "import exatomic\n",
    "from exatomic import qe\n",
    "\n",
    "\n",
    "def get_path(name):\n",
    "    \"\"\"Helper function for building paths\"\"\"\n",
    "    return os.path.abspath(os.path.join(os.path.abspath(exatomic.__file__), \"../static/qe/qe.\"+name+\".bz2\"))"
   ]
  },
  {
   "cell_type": "code",
   "execution_count": 3,
   "metadata": {},
   "outputs": [],
   "source": [
    "#path = os.path.abspath(os.path.join(os.path.abspath(exatomic.__file__), \"../static/qe/qe.inp.bz2\"))\n",
    "symbols = qe.parse_symbols_from_input(get_path(\"inp\"))"
   ]
  },
  {
   "cell_type": "code",
   "execution_count": 4,
   "metadata": {},
   "outputs": [],
   "source": [
    "pos = qe.parse_xyz(get_path(\"pos\"), symbols)\n",
    "vel = qe.parse_xyz(get_path(\"vel\"), symbols)\n",
    "force = qe.parse_xyz(get_path(\"for\"), symbols)"
   ]
  },
  {
   "cell_type": "code",
   "execution_count": 6,
   "metadata": {},
   "outputs": [],
   "source": [
    "evp = qe.parse_evp(get_path(\"evp\"), symbols)"
   ]
  },
  {
   "cell_type": "code",
   "execution_count": null,
   "metadata": {
    "collapsed": true
   },
   "outputs": [],
   "source": []
  },
  {
   "cell_type": "code",
   "execution_count": null,
   "metadata": {
    "collapsed": true
   },
   "outputs": [],
   "source": []
  },
  {
   "cell_type": "code",
   "execution_count": null,
   "metadata": {
    "collapsed": true
   },
   "outputs": [],
   "source": []
  }
 ],
 "metadata": {
  "kernelspec": {
   "display_name": "Python 3",
   "language": "python",
   "name": "python3"
  },
  "language_info": {
   "codemirror_mode": {
    "name": "ipython",
    "version": 3
   },
   "file_extension": ".py",
   "mimetype": "text/x-python",
   "name": "python",
   "nbconvert_exporter": "python",
   "pygments_lexer": "ipython3",
   "version": "3.6.2"
  }
 },
 "nbformat": 4,
 "nbformat_minor": 2
}
