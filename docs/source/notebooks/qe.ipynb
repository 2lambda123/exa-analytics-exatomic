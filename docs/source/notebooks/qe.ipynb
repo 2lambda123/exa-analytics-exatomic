{
 "cells": [
  {
   "cell_type": "markdown",
   "metadata": {
    "collapsed": true
   },
   "source": [
    "# Support for Quantum ESPRESSO in exatomic"
   ]
  },
  {
   "cell_type": "code",
   "execution_count": 13,
   "metadata": {},
   "outputs": [],
   "source": [
    "import pandas as pd\n",
    "import exatomic\n",
    "from exatomic import qe\n",
    "from exatomic.base import resource"
   ]
  },
  {
   "cell_type": "code",
   "execution_count": 9,
   "metadata": {},
   "outputs": [
    {
     "data": {
      "text/plain": [
       " 0: &control \n",
       " 1:   calculation = 'cp'\n",
       " 2:   restart_mode = 'restart'\n",
       " 3:   pseudo_dir = './'\n",
       " 4:   outdir = './'\n",
       " 5:   ndr = 52\n",
       " 6:   ndw = 53\n",
       " 7:   nstep = 100000\n",
       " 8:   isave = 100\n",
       " 9:   dt = 5.0\n",
       "10:   tprnfor = .true.\n",
       "11:   etot_conv_thr = 1.d-10\n",
       "12:   ekin_conv_thr = 1.d-10\n",
       "13: /\n",
       "14: &system\n",
       "15:   ibrav = 1\n",
       "16:   celldm(1) = 8.992926526086501\n",
       "17:   nat = 24\n",
       "18:   ntyp = 2\n",
       "19:   ecutwfc = 100.0\n",
       "20:   nr1b = 20\n",
       "21:   nr2b = 20\n",
       "22:   nr3b = 20\n",
       "23: /\n",
       "24: &electrons \n",
       "25:   ortho_eps = 1.d-10\n",
       "26:   conv_thr = 1.d-10\n",
       "27:   electron_dynamics = 'verlet'\n",
       "28:   electron_temperature = 'not_controlled'\n",
       "29: /\n",
       "...\n",
       "32:   ion_temperature = 'not_controlled'\n",
       "33: /\n",
       "34: ATOMIC_SPECIES\n",
       "35: H  2.01355d0   H.pbe-rrkjus_psl.1.0.0.UPF\n",
       "36: O  15.9994d0   O.pbe-n-rrkjus_psl.1.0.0.UPF\n",
       "37: ATOMIC_POSITIONS (angstrom)\n",
       "38: H        0.546318147   3.590197100   1.378263094\n",
       "39: H        0.954517747   1.514354410   2.962342290\n",
       "40: H        0.787888461   0.839350586   0.882540414\n",
       "41: H        0.690257635   4.012130108   3.523315035\n",
       "42: H        1.422020290   2.976291371   4.199262570\n",
       "43: H        1.911299965   0.459205219   3.602781703\n",
       "44: H        1.828794078   1.871633787   0.576792770\n",
       "45: H        1.946228278   4.149043985   1.536193059\n",
       "46: H        2.725439641   2.555594560   2.094999602\n",
       "47: H        2.836223112   0.711459835   1.813503111\n",
       "48: H        3.211183622   1.589661849   4.255508903\n",
       "49: H        3.222339725   4.387287879   3.234448546\n",
       "50: H        3.318242996   3.331665062   0.710502282\n",
       "51: H        4.116749767   3.291295818   3.650754796\n",
       "52: H        4.058582887   1.405332231   1.341492542\n",
       "53: H        4.567565079   1.259083902   4.101506299\n",
       "54: O        0.879149924   1.740236248   0.473861651\n",
       "55: O        1.191946976   4.175633551   0.945925757\n",
       "56: O        1.160662660   3.202160763   3.314667437\n",
       "57: O        1.652034050   0.830221030   2.757174921\n",
       "58: O        3.634262890   4.063356567   4.040261996\n",
       "59: O        3.430459498   3.027438556   1.650271679\n",
       "60: O        3.895379902   1.693296866   3.581490191\n",
       "61: O        3.468457670   0.676754719   1.074629351"
      ]
     },
     "execution_count": 9,
     "metadata": {},
     "output_type": "execute_result"
    }
   ],
   "source": [
    "exatomic.Editor(resource(\"qe.inp\"))    # Visualize the example input file if desired"
   ]
  },
  {
   "cell_type": "code",
   "execution_count": 10,
   "metadata": {},
   "outputs": [
    {
     "data": {
      "text/html": [
       "<div>\n",
       "<style scoped>\n",
       "    .dataframe tbody tr th:only-of-type {\n",
       "        vertical-align: middle;\n",
       "    }\n",
       "\n",
       "    .dataframe tbody tr th {\n",
       "        vertical-align: top;\n",
       "    }\n",
       "\n",
       "    .dataframe thead th {\n",
       "        text-align: right;\n",
       "    }\n",
       "</style>\n",
       "<table border=\"1\" class=\"dataframe\">\n",
       "  <thead>\n",
       "    <tr style=\"text-align: right;\">\n",
       "      <th></th>\n",
       "      <th>symbol</th>\n",
       "      <th>x</th>\n",
       "      <th>y</th>\n",
       "      <th>z</th>\n",
       "    </tr>\n",
       "  </thead>\n",
       "  <tbody>\n",
       "    <tr>\n",
       "      <th>0</th>\n",
       "      <td>H</td>\n",
       "      <td>1.032386</td>\n",
       "      <td>6.784453</td>\n",
       "      <td>2.604526</td>\n",
       "    </tr>\n",
       "    <tr>\n",
       "      <th>1</th>\n",
       "      <td>H</td>\n",
       "      <td>1.803768</td>\n",
       "      <td>2.861700</td>\n",
       "      <td>5.597986</td>\n",
       "    </tr>\n",
       "    <tr>\n",
       "      <th>2</th>\n",
       "      <td>H</td>\n",
       "      <td>1.488886</td>\n",
       "      <td>1.586134</td>\n",
       "      <td>1.667751</td>\n",
       "    </tr>\n",
       "    <tr>\n",
       "      <th>3</th>\n",
       "      <td>H</td>\n",
       "      <td>1.304391</td>\n",
       "      <td>7.581787</td>\n",
       "      <td>6.658065</td>\n",
       "    </tr>\n",
       "    <tr>\n",
       "      <th>4</th>\n",
       "      <td>H</td>\n",
       "      <td>2.687215</td>\n",
       "      <td>5.624346</td>\n",
       "      <td>7.935414</td>\n",
       "    </tr>\n",
       "    <tr>\n",
       "      <th>5</th>\n",
       "      <td>H</td>\n",
       "      <td>3.611814</td>\n",
       "      <td>0.867768</td>\n",
       "      <td>6.808235</td>\n",
       "    </tr>\n",
       "    <tr>\n",
       "      <th>6</th>\n",
       "      <td>H</td>\n",
       "      <td>3.455902</td>\n",
       "      <td>3.536857</td>\n",
       "      <td>1.089975</td>\n",
       "    </tr>\n",
       "    <tr>\n",
       "      <th>7</th>\n",
       "      <td>H</td>\n",
       "      <td>3.677819</td>\n",
       "      <td>7.840515</td>\n",
       "      <td>2.902969</td>\n",
       "    </tr>\n",
       "    <tr>\n",
       "      <th>8</th>\n",
       "      <td>H</td>\n",
       "      <td>5.150307</td>\n",
       "      <td>4.829348</td>\n",
       "      <td>3.958955</td>\n",
       "    </tr>\n",
       "    <tr>\n",
       "      <th>9</th>\n",
       "      <td>H</td>\n",
       "      <td>5.359657</td>\n",
       "      <td>1.344457</td>\n",
       "      <td>3.427006</td>\n",
       "    </tr>\n",
       "    <tr>\n",
       "      <th>10</th>\n",
       "      <td>H</td>\n",
       "      <td>6.068226</td>\n",
       "      <td>3.004010</td>\n",
       "      <td>8.041704</td>\n",
       "    </tr>\n",
       "    <tr>\n",
       "      <th>11</th>\n",
       "      <td>H</td>\n",
       "      <td>6.089307</td>\n",
       "      <td>8.290729</td>\n",
       "      <td>6.112190</td>\n",
       "    </tr>\n",
       "    <tr>\n",
       "      <th>12</th>\n",
       "      <td>H</td>\n",
       "      <td>6.270537</td>\n",
       "      <td>6.295901</td>\n",
       "      <td>1.342648</td>\n",
       "    </tr>\n",
       "    <tr>\n",
       "      <th>13</th>\n",
       "      <td>H</td>\n",
       "      <td>7.779489</td>\n",
       "      <td>6.219615</td>\n",
       "      <td>6.898890</td>\n",
       "    </tr>\n",
       "    <tr>\n",
       "      <th>14</th>\n",
       "      <td>H</td>\n",
       "      <td>7.669570</td>\n",
       "      <td>2.655679</td>\n",
       "      <td>2.535040</td>\n",
       "    </tr>\n",
       "    <tr>\n",
       "      <th>15</th>\n",
       "      <td>H</td>\n",
       "      <td>8.631402</td>\n",
       "      <td>2.379311</td>\n",
       "      <td>7.750683</td>\n",
       "    </tr>\n",
       "    <tr>\n",
       "      <th>16</th>\n",
       "      <td>O</td>\n",
       "      <td>1.661344</td>\n",
       "      <td>3.288553</td>\n",
       "      <td>0.895464</td>\n",
       "    </tr>\n",
       "    <tr>\n",
       "      <th>17</th>\n",
       "      <td>O</td>\n",
       "      <td>2.252441</td>\n",
       "      <td>7.890762</td>\n",
       "      <td>1.787531</td>\n",
       "    </tr>\n",
       "    <tr>\n",
       "      <th>18</th>\n",
       "      <td>O</td>\n",
       "      <td>2.193323</td>\n",
       "      <td>6.051175</td>\n",
       "      <td>6.263781</td>\n",
       "    </tr>\n",
       "    <tr>\n",
       "      <th>19</th>\n",
       "      <td>O</td>\n",
       "      <td>3.121875</td>\n",
       "      <td>1.568882</td>\n",
       "      <td>5.210278</td>\n",
       "    </tr>\n",
       "    <tr>\n",
       "      <th>20</th>\n",
       "      <td>O</td>\n",
       "      <td>6.867725</td>\n",
       "      <td>7.678591</td>\n",
       "      <td>7.634948</td>\n",
       "    </tr>\n",
       "    <tr>\n",
       "      <th>21</th>\n",
       "      <td>O</td>\n",
       "      <td>6.482595</td>\n",
       "      <td>5.721000</td>\n",
       "      <td>3.118545</td>\n",
       "    </tr>\n",
       "    <tr>\n",
       "      <th>22</th>\n",
       "      <td>O</td>\n",
       "      <td>7.361162</td>\n",
       "      <td>3.199850</td>\n",
       "      <td>6.768000</td>\n",
       "    </tr>\n",
       "    <tr>\n",
       "      <th>23</th>\n",
       "      <td>O</td>\n",
       "      <td>6.554401</td>\n",
       "      <td>1.278874</td>\n",
       "      <td>2.030744</td>\n",
       "    </tr>\n",
       "  </tbody>\n",
       "</table>\n",
       "</div>"
      ],
      "text/plain": [
       "   symbol         x         y         z\n",
       "0       H  1.032386  6.784453  2.604526\n",
       "1       H  1.803768  2.861700  5.597986\n",
       "2       H  1.488886  1.586134  1.667751\n",
       "3       H  1.304391  7.581787  6.658065\n",
       "4       H  2.687215  5.624346  7.935414\n",
       "5       H  3.611814  0.867768  6.808235\n",
       "6       H  3.455902  3.536857  1.089975\n",
       "7       H  3.677819  7.840515  2.902969\n",
       "8       H  5.150307  4.829348  3.958955\n",
       "9       H  5.359657  1.344457  3.427006\n",
       "10      H  6.068226  3.004010  8.041704\n",
       "11      H  6.089307  8.290729  6.112190\n",
       "12      H  6.270537  6.295901  1.342648\n",
       "13      H  7.779489  6.219615  6.898890\n",
       "14      H  7.669570  2.655679  2.535040\n",
       "15      H  8.631402  2.379311  7.750683\n",
       "16      O  1.661344  3.288553  0.895464\n",
       "17      O  2.252441  7.890762  1.787531\n",
       "18      O  2.193323  6.051175  6.263781\n",
       "19      O  3.121875  1.568882  5.210278\n",
       "20      O  6.867725  7.678591  7.634948\n",
       "21      O  6.482595  5.721000  3.118545\n",
       "22      O  7.361162  3.199850  6.768000\n",
       "23      O  6.554401  1.278874  2.030744"
      ]
     },
     "execution_count": 10,
     "metadata": {},
     "output_type": "execute_result"
    }
   ],
   "source": [
    "xyz = qe.parse_symbols_from_input(resource(\"qe.inp\"))\n",
    "xyz"
   ]
  },
  {
   "cell_type": "code",
   "execution_count": 53,
   "metadata": {},
   "outputs": [],
   "source": [
    "symbols = xyz['symbol'].tolist()\n",
    "pos = qe.parse_xyz(resource(\"qe.pos\"), symbols)\n",
    "vel = qe.parse_xyz(resource(\"qe.vel\"), symbols)\n",
    "vel.columns = (\"vx\", \"vy\", \"vz\", \"frame\", \"symbol\")\n",
    "force = qe.parse_xyz(resource(\"qe.for\"), symbols)\n",
    "force.columns = (\"fx\", \"fy\", \"fz\", \"frame\", \"symbol\")"
   ]
  },
  {
   "cell_type": "code",
   "execution_count": 54,
   "metadata": {},
   "outputs": [
    {
     "data": {
      "text/html": [
       "<div>\n",
       "<style scoped>\n",
       "    .dataframe tbody tr th:only-of-type {\n",
       "        vertical-align: middle;\n",
       "    }\n",
       "\n",
       "    .dataframe tbody tr th {\n",
       "        vertical-align: top;\n",
       "    }\n",
       "\n",
       "    .dataframe thead th {\n",
       "        text-align: right;\n",
       "    }\n",
       "</style>\n",
       "<table border=\"1\" class=\"dataframe\">\n",
       "  <thead>\n",
       "    <tr style=\"text-align: right;\">\n",
       "      <th></th>\n",
       "      <th>x</th>\n",
       "      <th>y</th>\n",
       "      <th>z</th>\n",
       "      <th>frame</th>\n",
       "      <th>symbol</th>\n",
       "    </tr>\n",
       "  </thead>\n",
       "  <tbody>\n",
       "    <tr>\n",
       "      <th>0</th>\n",
       "      <td>1.386029</td>\n",
       "      <td>10.148803</td>\n",
       "      <td>2.527119</td>\n",
       "      <td>86300</td>\n",
       "      <td>H</td>\n",
       "    </tr>\n",
       "    <tr>\n",
       "      <th>1</th>\n",
       "      <td>6.298432</td>\n",
       "      <td>0.408980</td>\n",
       "      <td>6.614086</td>\n",
       "      <td>86300</td>\n",
       "      <td>H</td>\n",
       "    </tr>\n",
       "    <tr>\n",
       "      <th>2</th>\n",
       "      <td>2.705972</td>\n",
       "      <td>4.812221</td>\n",
       "      <td>1.851418</td>\n",
       "      <td>86300</td>\n",
       "      <td>H</td>\n",
       "    </tr>\n",
       "    <tr>\n",
       "      <th>3</th>\n",
       "      <td>0.925476</td>\n",
       "      <td>7.572369</td>\n",
       "      <td>3.711328</td>\n",
       "      <td>86300</td>\n",
       "      <td>H</td>\n",
       "    </tr>\n",
       "    <tr>\n",
       "      <th>4</th>\n",
       "      <td>-0.712621</td>\n",
       "      <td>7.029148</td>\n",
       "      <td>6.158907</td>\n",
       "      <td>86300</td>\n",
       "      <td>H</td>\n",
       "    </tr>\n",
       "  </tbody>\n",
       "</table>\n",
       "</div>"
      ],
      "text/plain": [
       "          x          y         z  frame symbol\n",
       "0  1.386029  10.148803  2.527119  86300      H\n",
       "1  6.298432   0.408980  6.614086  86300      H\n",
       "2  2.705972   4.812221  1.851418  86300      H\n",
       "3  0.925476   7.572369  3.711328  86300      H\n",
       "4 -0.712621   7.029148  6.158907  86300      H"
      ]
     },
     "execution_count": 54,
     "metadata": {},
     "output_type": "execute_result"
    }
   ],
   "source": [
    "pos.head()"
   ]
  },
  {
   "cell_type": "code",
   "execution_count": 55,
   "metadata": {},
   "outputs": [
    {
     "data": {
      "text/html": [
       "<div>\n",
       "<style scoped>\n",
       "    .dataframe tbody tr th:only-of-type {\n",
       "        vertical-align: middle;\n",
       "    }\n",
       "\n",
       "    .dataframe tbody tr th {\n",
       "        vertical-align: top;\n",
       "    }\n",
       "\n",
       "    .dataframe thead th {\n",
       "        text-align: right;\n",
       "    }\n",
       "</style>\n",
       "<table border=\"1\" class=\"dataframe\">\n",
       "  <thead>\n",
       "    <tr style=\"text-align: right;\">\n",
       "      <th></th>\n",
       "      <th>vx</th>\n",
       "      <th>vy</th>\n",
       "      <th>vz</th>\n",
       "      <th>frame</th>\n",
       "      <th>symbol</th>\n",
       "    </tr>\n",
       "  </thead>\n",
       "  <tbody>\n",
       "    <tr>\n",
       "      <th>0</th>\n",
       "      <td>0.000266</td>\n",
       "      <td>0.000348</td>\n",
       "      <td>-0.000371</td>\n",
       "      <td>86300</td>\n",
       "      <td>H</td>\n",
       "    </tr>\n",
       "    <tr>\n",
       "      <th>1</th>\n",
       "      <td>-0.000284</td>\n",
       "      <td>-0.000844</td>\n",
       "      <td>0.000613</td>\n",
       "      <td>86300</td>\n",
       "      <td>H</td>\n",
       "    </tr>\n",
       "    <tr>\n",
       "      <th>2</th>\n",
       "      <td>0.000434</td>\n",
       "      <td>-0.000134</td>\n",
       "      <td>0.000023</td>\n",
       "      <td>86300</td>\n",
       "      <td>H</td>\n",
       "    </tr>\n",
       "    <tr>\n",
       "      <th>3</th>\n",
       "      <td>-0.000236</td>\n",
       "      <td>0.001189</td>\n",
       "      <td>0.000255</td>\n",
       "      <td>86300</td>\n",
       "      <td>H</td>\n",
       "    </tr>\n",
       "    <tr>\n",
       "      <th>4</th>\n",
       "      <td>0.000289</td>\n",
       "      <td>-0.000445</td>\n",
       "      <td>0.000056</td>\n",
       "      <td>86300</td>\n",
       "      <td>H</td>\n",
       "    </tr>\n",
       "  </tbody>\n",
       "</table>\n",
       "</div>"
      ],
      "text/plain": [
       "         vx        vy        vz  frame symbol\n",
       "0  0.000266  0.000348 -0.000371  86300      H\n",
       "1 -0.000284 -0.000844  0.000613  86300      H\n",
       "2  0.000434 -0.000134  0.000023  86300      H\n",
       "3 -0.000236  0.001189  0.000255  86300      H\n",
       "4  0.000289 -0.000445  0.000056  86300      H"
      ]
     },
     "execution_count": 55,
     "metadata": {},
     "output_type": "execute_result"
    }
   ],
   "source": [
    "vel.head()"
   ]
  },
  {
   "cell_type": "code",
   "execution_count": 56,
   "metadata": {},
   "outputs": [
    {
     "data": {
      "text/html": [
       "<div>\n",
       "<style scoped>\n",
       "    .dataframe tbody tr th:only-of-type {\n",
       "        vertical-align: middle;\n",
       "    }\n",
       "\n",
       "    .dataframe tbody tr th {\n",
       "        vertical-align: top;\n",
       "    }\n",
       "\n",
       "    .dataframe thead th {\n",
       "        text-align: right;\n",
       "    }\n",
       "</style>\n",
       "<table border=\"1\" class=\"dataframe\">\n",
       "  <thead>\n",
       "    <tr style=\"text-align: right;\">\n",
       "      <th></th>\n",
       "      <th>fx</th>\n",
       "      <th>fy</th>\n",
       "      <th>fz</th>\n",
       "      <th>frame</th>\n",
       "      <th>symbol</th>\n",
       "    </tr>\n",
       "  </thead>\n",
       "  <tbody>\n",
       "    <tr>\n",
       "      <th>0</th>\n",
       "      <td>-0.014144</td>\n",
       "      <td>-0.001770</td>\n",
       "      <td>-0.010127</td>\n",
       "      <td>86300</td>\n",
       "      <td>H</td>\n",
       "    </tr>\n",
       "    <tr>\n",
       "      <th>1</th>\n",
       "      <td>-0.003695</td>\n",
       "      <td>0.015956</td>\n",
       "      <td>-0.013014</td>\n",
       "      <td>86300</td>\n",
       "      <td>H</td>\n",
       "    </tr>\n",
       "    <tr>\n",
       "      <th>2</th>\n",
       "      <td>-0.003526</td>\n",
       "      <td>-0.001231</td>\n",
       "      <td>0.003031</td>\n",
       "      <td>86300</td>\n",
       "      <td>H</td>\n",
       "    </tr>\n",
       "    <tr>\n",
       "      <th>3</th>\n",
       "      <td>0.017270</td>\n",
       "      <td>-0.005110</td>\n",
       "      <td>-0.001918</td>\n",
       "      <td>86300</td>\n",
       "      <td>H</td>\n",
       "    </tr>\n",
       "    <tr>\n",
       "      <th>4</th>\n",
       "      <td>0.002262</td>\n",
       "      <td>0.006420</td>\n",
       "      <td>0.002992</td>\n",
       "      <td>86300</td>\n",
       "      <td>H</td>\n",
       "    </tr>\n",
       "  </tbody>\n",
       "</table>\n",
       "</div>"
      ],
      "text/plain": [
       "         fx        fy        fz  frame symbol\n",
       "0 -0.014144 -0.001770 -0.010127  86300      H\n",
       "1 -0.003695  0.015956 -0.013014  86300      H\n",
       "2 -0.003526 -0.001231  0.003031  86300      H\n",
       "3  0.017270 -0.005110 -0.001918  86300      H\n",
       "4  0.002262  0.006420  0.002992  86300      H"
      ]
     },
     "execution_count": 56,
     "metadata": {},
     "output_type": "execute_result"
    }
   ],
   "source": [
    "force.head()"
   ]
  },
  {
   "cell_type": "code",
   "execution_count": 57,
   "metadata": {},
   "outputs": [],
   "source": [
    "atom = pd.concat((pos, vel[[\"vx\", \"vy\", \"vz\"]], force[[\"fx\", \"fy\", \"fz\"]]), axis=1)"
   ]
  },
  {
   "cell_type": "code",
   "execution_count": 58,
   "metadata": {},
   "outputs": [],
   "source": [
    "# Some extra steps to set the column names\n",
    "evp = qe.parse_evp(resource(\"qe.evp\"), symbols)\n",
    "columns = evp.iloc[0, :].tolist()[1:] + [\"None\"]    # Add a dummy column\n",
    "evp = evp.drop(\"#\", axis=0)                         # Delete first row\n",
    "evp.columns = columns\n",
    "evp['atom_count'] = len(symbols)\n",
    "evp = evp.dropna(how='all', axis=1)                 # Remove dummy column"
   ]
  },
  {
   "cell_type": "code",
   "execution_count": 59,
   "metadata": {},
   "outputs": [
    {
     "data": {
      "text/html": [
       "<div>\n",
       "<style scoped>\n",
       "    .dataframe tbody tr th:only-of-type {\n",
       "        vertical-align: middle;\n",
       "    }\n",
       "\n",
       "    .dataframe tbody tr th {\n",
       "        vertical-align: top;\n",
       "    }\n",
       "\n",
       "    .dataframe thead th {\n",
       "        text-align: right;\n",
       "    }\n",
       "</style>\n",
       "<table border=\"1\" class=\"dataframe\">\n",
       "  <thead>\n",
       "    <tr style=\"text-align: right;\">\n",
       "      <th></th>\n",
       "      <th>time(ps)</th>\n",
       "      <th>ekinc</th>\n",
       "      <th>T_cell(K)</th>\n",
       "      <th>Tion(K)</th>\n",
       "      <th>etot</th>\n",
       "      <th>enthal</th>\n",
       "      <th>econs</th>\n",
       "      <th>econt</th>\n",
       "      <th>Volume</th>\n",
       "      <th>Pressure(GPa)</th>\n",
       "      <th>atom_count</th>\n",
       "    </tr>\n",
       "  </thead>\n",
       "  <tbody>\n",
       "    <tr>\n",
       "      <th>86300</th>\n",
       "      <td>1.043756E+01</td>\n",
       "      <td>1.165034E-03</td>\n",
       "      <td>0.000000E+00</td>\n",
       "      <td>1.991763E+02</td>\n",
       "      <td>-139.02493778</td>\n",
       "      <td>-139.02493778</td>\n",
       "      <td>-139.00223062</td>\n",
       "      <td>-139.04934698</td>\n",
       "      <td>7.272825E+02</td>\n",
       "      <td>-0.00000</td>\n",
       "      <td>24</td>\n",
       "    </tr>\n",
       "    <tr>\n",
       "      <th>86310</th>\n",
       "      <td>1.043877E+01</td>\n",
       "      <td>1.177623E-03</td>\n",
       "      <td>0.000000E+00</td>\n",
       "      <td>1.951384E+02</td>\n",
       "      <td>-139.02452520</td>\n",
       "      <td>-139.02452520</td>\n",
       "      <td>-139.00227838</td>\n",
       "      <td>-139.00110075</td>\n",
       "      <td>7.272825E+02</td>\n",
       "      <td>-0.00000</td>\n",
       "      <td>24</td>\n",
       "    </tr>\n",
       "    <tr>\n",
       "      <th>86320</th>\n",
       "      <td>1.043998E+01</td>\n",
       "      <td>2.023734E-03</td>\n",
       "      <td>0.000000E+00</td>\n",
       "      <td>1.817591E+02</td>\n",
       "      <td>-139.02385374</td>\n",
       "      <td>-139.02385374</td>\n",
       "      <td>-139.00313223</td>\n",
       "      <td>-139.00110849</td>\n",
       "      <td>7.272825E+02</td>\n",
       "      <td>-0.00000</td>\n",
       "      <td>24</td>\n",
       "    </tr>\n",
       "    <tr>\n",
       "      <th>86330</th>\n",
       "      <td>1.044119E+01</td>\n",
       "      <td>1.223379E-03</td>\n",
       "      <td>0.000000E+00</td>\n",
       "      <td>1.886373E+02</td>\n",
       "      <td>-139.02383875</td>\n",
       "      <td>-139.02383875</td>\n",
       "      <td>-139.00233309</td>\n",
       "      <td>-139.00110971</td>\n",
       "      <td>7.272825E+02</td>\n",
       "      <td>-0.00000</td>\n",
       "      <td>24</td>\n",
       "    </tr>\n",
       "    <tr>\n",
       "      <th>86340</th>\n",
       "      <td>1.044240E+01</td>\n",
       "      <td>2.015737E-03</td>\n",
       "      <td>0.000000E+00</td>\n",
       "      <td>1.967750E+02</td>\n",
       "      <td>-139.02555726</td>\n",
       "      <td>-139.02555726</td>\n",
       "      <td>-139.00312386</td>\n",
       "      <td>-139.00110813</td>\n",
       "      <td>7.272825E+02</td>\n",
       "      <td>-0.00000</td>\n",
       "      <td>24</td>\n",
       "    </tr>\n",
       "  </tbody>\n",
       "</table>\n",
       "</div>"
      ],
      "text/plain": [
       "           time(ps)         ekinc     T_cell(K)       Tion(K)           etot  \\\n",
       "86300  1.043756E+01  1.165034E-03  0.000000E+00  1.991763E+02  -139.02493778   \n",
       "86310  1.043877E+01  1.177623E-03  0.000000E+00  1.951384E+02  -139.02452520   \n",
       "86320  1.043998E+01  2.023734E-03  0.000000E+00  1.817591E+02  -139.02385374   \n",
       "86330  1.044119E+01  1.223379E-03  0.000000E+00  1.886373E+02  -139.02383875   \n",
       "86340  1.044240E+01  2.015737E-03  0.000000E+00  1.967750E+02  -139.02555726   \n",
       "\n",
       "              enthal          econs          econt        Volume  \\\n",
       "86300  -139.02493778  -139.00223062  -139.04934698  7.272825E+02   \n",
       "86310  -139.02452520  -139.00227838  -139.00110075  7.272825E+02   \n",
       "86320  -139.02385374  -139.00313223  -139.00110849  7.272825E+02   \n",
       "86330  -139.02383875  -139.00233309  -139.00110971  7.272825E+02   \n",
       "86340  -139.02555726  -139.00312386  -139.00110813  7.272825E+02   \n",
       "\n",
       "      Pressure(GPa)  atom_count  \n",
       "86300      -0.00000          24  \n",
       "86310      -0.00000          24  \n",
       "86320      -0.00000          24  \n",
       "86330      -0.00000          24  \n",
       "86340      -0.00000          24  "
      ]
     },
     "execution_count": 59,
     "metadata": {},
     "output_type": "execute_result"
    }
   ],
   "source": [
    "evp.head()"
   ]
  },
  {
   "cell_type": "code",
   "execution_count": 60,
   "metadata": {},
   "outputs": [],
   "source": [
    "# Make a universe\n",
    "uni = exatomic.Universe(atom=atom, frame=evp)"
   ]
  },
  {
   "cell_type": "code",
   "execution_count": 61,
   "metadata": {},
   "outputs": [
    {
     "data": {
      "text/plain": [
       "10001"
      ]
     },
     "execution_count": 61,
     "metadata": {},
     "output_type": "execute_result"
    }
   ],
   "source": [
    "len(uni)"
   ]
  },
  {
   "cell_type": "code",
   "execution_count": 62,
   "metadata": {},
   "outputs": [
    {
     "data": {
      "text/plain": [
       "x          float64\n",
       "y          float64\n",
       "z          float64\n",
       "frame     category\n",
       "symbol    category\n",
       "vx         float64\n",
       "vy         float64\n",
       "vz         float64\n",
       "fx         float64\n",
       "fy         float64\n",
       "fz         float64\n",
       "dtype: object"
      ]
     },
     "execution_count": 62,
     "metadata": {},
     "output_type": "execute_result"
    }
   ],
   "source": [
    "uni.atom.dtypes"
   ]
  },
  {
   "cell_type": "code",
   "execution_count": 63,
   "metadata": {},
   "outputs": [
    {
     "name": "stdout",
     "output_type": "stream",
     "text": [
      "CPU times: user 4.69 s, sys: 609 ms, total: 5.3 s\n",
      "Wall time: 5.35 s\n"
     ]
    }
   ],
   "source": [
    "%time uni.compute_atom_two()"
   ]
  },
  {
   "cell_type": "code",
   "execution_count": 64,
   "metadata": {},
   "outputs": [
    {
     "data": {
      "text/plain": [
       "(240024, 11)"
      ]
     },
     "execution_count": 64,
     "metadata": {},
     "output_type": "execute_result"
    }
   ],
   "source": [
    "uni.atom.shape"
   ]
  },
  {
   "cell_type": "code",
   "execution_count": 65,
   "metadata": {},
   "outputs": [
    {
     "data": {
      "text/plain": [
       "(1874130, 4)"
      ]
     },
     "execution_count": 65,
     "metadata": {},
     "output_type": "execute_result"
    }
   ],
   "source": [
    "uni.atom_two.shape"
   ]
  },
  {
   "cell_type": "code",
   "execution_count": 66,
   "metadata": {},
   "outputs": [
    {
     "data": {
      "text/plain": [
       "(80030, 3)"
      ]
     },
     "execution_count": 66,
     "metadata": {},
     "output_type": "execute_result"
    }
   ],
   "source": [
    "uni.molecule.shape"
   ]
  },
  {
   "cell_type": "code",
   "execution_count": null,
   "metadata": {},
   "outputs": [],
   "source": [
    "exatomic.UniverseWidget(uni)"
   ]
  },
  {
   "cell_type": "code",
   "execution_count": null,
   "metadata": {},
   "outputs": [],
   "source": []
  },
  {
   "cell_type": "code",
   "execution_count": null,
   "metadata": {},
   "outputs": [],
   "source": []
  },
  {
   "cell_type": "code",
   "execution_count": null,
   "metadata": {},
   "outputs": [],
   "source": []
  },
  {
   "cell_type": "code",
   "execution_count": null,
   "metadata": {
    "collapsed": true
   },
   "outputs": [],
   "source": []
  },
  {
   "cell_type": "code",
   "execution_count": null,
   "metadata": {
    "collapsed": true
   },
   "outputs": [],
   "source": []
  }
 ],
 "metadata": {
  "kernelspec": {
   "display_name": "Python 3",
   "language": "python",
   "name": "python3"
  },
  "language_info": {
   "codemirror_mode": {
    "name": "ipython",
    "version": 3
   },
   "file_extension": ".py",
   "mimetype": "text/x-python",
   "name": "python",
   "nbconvert_exporter": "python",
   "pygments_lexer": "ipython3",
   "version": "3.6.4"
  }
 },
 "nbformat": 4,
 "nbformat_minor": 2
}
