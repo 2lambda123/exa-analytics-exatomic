{
 "cells": [
  {
   "cell_type": "code",
   "execution_count": 1,
   "metadata": {},
   "outputs": [],
   "source": [
    "import numpy as np\n",
    "import tarfile\n",
    "from os import sep, remove, rmdir, removedirs\n",
    "from glob import glob\n",
    "\n",
    "#from exatomic import va\n",
    "from exatomic.base import resource, list_resources\n",
    "from exatomic.va import VA, get_data, gen_delta\n",
    "from exatomic.gaussian import Fchk\n",
    "from exatomic.nwchem import Output"
   ]
  },
  {
   "cell_type": "code",
   "execution_count": 2,
   "metadata": {},
   "outputs": [],
   "source": [
    "tar = tarfile.open(\"../test_files/vroa/h2o2.tar.bz\", mode='r')"
   ]
  },
  {
   "cell_type": "code",
   "execution_count": 3,
   "metadata": {},
   "outputs": [],
   "source": [
    "tar.extractall()"
   ]
  },
  {
   "cell_type": "code",
   "execution_count": 4,
   "metadata": {},
   "outputs": [
    {
     "name": "stdout",
     "output_type": "stream",
     "text": [
      "(130, 13)\n",
      "(52, 8)\n"
     ]
    }
   ],
   "source": [
    "path = sep.join(['h2o2','*'])\n",
    "df = get_data(path=path, attr='roa', soft=Output, f_start='va-roa-h2o2-def2tzvp-514.5-', f_end='.out')\n",
    "print(df.shape)\n",
    "df = get_data(path=path, attr='gradient', soft=Output, f_start='va-roa-h2o2-def2tzvp-514.5-', f_end='.out')\n",
    "print(df.shape)"
   ]
  },
  {
   "cell_type": "code",
   "execution_count": 5,
   "metadata": {},
   "outputs": [],
   "source": [
    "tar.close()"
   ]
  },
  {
   "cell_type": "code",
   "execution_count": 6,
   "metadata": {},
   "outputs": [],
   "source": [
    "for i in glob(path):\n",
    "    remove(i)\n",
    "rmdir('h2o2')"
   ]
  },
  {
   "cell_type": "code",
   "execution_count": 2,
   "metadata": {},
   "outputs": [
    {
     "data": {
      "text/plain": [
       "['3nir.pdb',\n",
       " 'atom_frame.hdf',\n",
       " 'comments.xyz',\n",
       " 'exatomic_demo.ipynb',\n",
       " 'gaussian.uo2.out',\n",
       " 'H2O.traj.xyz',\n",
       " 'non-trad.xyz',\n",
       " 'nw.h2o.c.out',\n",
       " 'nw.h2o.s.out',\n",
       " 'nwchem.uo2.out',\n",
       " 'pdb-min.json',\n",
       " 'pdb.json',\n",
       " 'porphyrin.xyz',\n",
       " 'rh2.traj.xyz',\n",
       " 'single.xyz',\n",
       " 'traj.xyz',\n",
       " 'adf-lu-valid.hdf5',\n",
       " 'adf-lu.hdf5',\n",
       " 'adf-lu.out',\n",
       " 'Si.cif',\n",
       " 'wustite.cif',\n",
       " 'adf-lu-35.cube',\n",
       " 'adf-lu-36.cube',\n",
       " 'mol-carbon-dz-1.cube',\n",
       " 'g09-ch3nh2-631g.fchk',\n",
       " 'g09-ch3nh2-631g.out',\n",
       " 'g09-ch3nh2-augccpvdz.fchk',\n",
       " 'g09-ch3nh2-augccpvdz.out',\n",
       " 'g09-nitromalonamide-6-31++g-freq.out',\n",
       " 'g09-uo2.out',\n",
       " 'g16-h2o2-def2tzvp-freq.fchk',\n",
       " 'g16-h2o2-def2tzvp-tddft.out',\n",
       " 'g16-methyloxirane-def2tzvp-freq.fchk',\n",
       " 'g16-methyloxirane-def2tzvp-freq.out',\n",
       " 'g16-methyloxirane-def2tzvp-opt-freq.out',\n",
       " 'g16-methyloxirane-def2tzvp-opt.out',\n",
       " 'g16-naproxen-def2tzvp-freq.out',\n",
       " 'g16-naproxen-def2tzvp-opt.out',\n",
       " 'g16-naproxen-def2tzvp-tddft.out',\n",
       " 'g16-nitromalonamide-6-31++g-nmr.fchk',\n",
       " 'g16-nitromalonamide-6-31++g-nmr.out',\n",
       " 'extension.js',\n",
       " 'index.js',\n",
       " 'index.js.map',\n",
       " 'mol-c2h6-basis.out',\n",
       " 'mol-c2h6-nosym-scf.hdf5',\n",
       " 'mol-c2h6-nosym.out',\n",
       " 'mol-c2h6-nosym.scforb',\n",
       " 'mol-c2h6-nosym.uhforb',\n",
       " 'mol-c2h6-old-nosym.out',\n",
       " 'mol-c2h6-old-nosym.scforb',\n",
       " 'mol-c2h6-old-nosym.uhforb',\n",
       " 'mol-c2h6-old-sym.out',\n",
       " 'mol-c2h6-old-sym.scforb',\n",
       " 'mol-c2h6-old-sym.uhforb',\n",
       " 'mol-c2h6-sym-scf.hdf5',\n",
       " 'mol-c2h6-sym.out',\n",
       " 'mol-c2h6-sym.scforb',\n",
       " 'mol-c2h6-sym.uhforb',\n",
       " 'mol-carbon-dz-valid.hdf5',\n",
       " 'mol-carbon-dz.hdf5',\n",
       " 'mol-carbon-dz.out',\n",
       " 'mol-carbon-dz.overlap',\n",
       " 'mol-ch3nh2-631g.out',\n",
       " 'mol-ch3nh2-631g.scforb',\n",
       " 'mol-ch3nh2-anovdzp.out',\n",
       " 'mol-ch3nh2-anovdzp.scforb',\n",
       " 'mol-li-ano.out',\n",
       " 'mol-li-ano.overlap',\n",
       " 'mol-npo2-ano.out',\n",
       " 'mol-npo2-ano.overlap',\n",
       " 'mol-uo2-anomb.out',\n",
       " 'mol-uo2-anomb.scforb',\n",
       " 'mol-zno2-dz.out',\n",
       " 'mol-zno2-dz.overlap',\n",
       " 'nw-ch3nh2-631g.out',\n",
       " 'nw-ch3nh2-augccpvdz.out',\n",
       " 'nw-methyloxirane-def2tzvp-roa.out',\n",
       " 'nw-naproxen-def2tzvp-roa.out',\n",
       " 'c-fon-core.out',\n",
       " 'c-fon-unres.out',\n",
       " 'c-fon.out',\n",
       " 'H2O-CAMB3LYP.out',\n",
       " 'H2O-core-hole.out',\n",
       " 'H2O-HSE03-cart.out',\n",
       " 'H2O-HSE03-sphr.out',\n",
       " 'H2O-noscf.out',\n",
       " 'UO2-SODFT.out',\n",
       " 'hema10.tar',\n",
       " 'Dimer.out',\n",
       " 'He-prjbas.out',\n",
       " 'heme6a1-frag.out',\n",
       " 'qe.cel',\n",
       " 'qe.eig',\n",
       " 'qe.evp',\n",
       " 'qe.for',\n",
       " 'qe.inp',\n",
       " 'qe.pos',\n",
       " 'qe.vel',\n",
       " 'h2o2.tar.bz',\n",
       " 'methyloxirane.tar.bz',\n",
       " 'nitromalonamide_nmr.tar.bz',\n",
       " 'H2.xyz',\n",
       " 'H2O.xyz',\n",
       " 'O2.xyz',\n",
       " 'UCl6.xyz',\n",
       " 'UO2.xyz',\n",
       " 'ZnPorphyrin.xyz',\n",
       " 'ZrO2.xyz',\n",
       " 'H2O.traj.xyz',\n",
       " 'benzene.xyz',\n",
       " 'CH3NH2.xyz',\n",
       " 'methyl_134_triazole.xyz',\n",
       " 'kaolinite.xyz',\n",
       " 'magnesite.xyz',\n",
       " 'zabuyelite.xyz']"
      ]
     },
     "execution_count": 2,
     "metadata": {},
     "output_type": "execute_result"
    }
   ],
   "source": [
    "list_resources()"
   ]
  },
  {
   "cell_type": "code",
   "execution_count": 16,
   "metadata": {},
   "outputs": [],
   "source": [
    "import os\n",
    "import inspect"
   ]
  },
  {
   "cell_type": "code",
   "execution_count": 18,
   "metadata": {},
   "outputs": [
    {
     "data": {
      "text/plain": [
       "'/mnt/d/home/herbertl/github/exatomic/exatomic/va'"
      ]
     },
     "execution_count": 18,
     "metadata": {},
     "output_type": "execute_result"
    }
   ],
   "source": [
    "os.sep.join(inspect.getfile(VA.__class__).split(os.sep)[:-1])"
   ]
  },
  {
   "cell_type": "code",
   "execution_count": 15,
   "metadata": {},
   "outputs": [
    {
     "data": {
      "text/plain": [
       "exatomic.va.va.VAMeta"
      ]
     },
     "execution_count": 15,
     "metadata": {},
     "output_type": "execute_result"
    }
   ],
   "source": [
    "VA.__class__"
   ]
  },
  {
   "cell_type": "code",
   "execution_count": null,
   "metadata": {},
   "outputs": [],
   "source": []
  }
 ],
 "metadata": {
  "kernelspec": {
   "display_name": "Python 3",
   "language": "python",
   "name": "python3"
  },
  "language_info": {
   "codemirror_mode": {
    "name": "ipython",
    "version": 3
   },
   "file_extension": ".py",
   "mimetype": "text/x-python",
   "name": "python",
   "nbconvert_exporter": "python",
   "pygments_lexer": "ipython3",
   "version": "3.7.0"
  }
 },
 "nbformat": 4,
 "nbformat_minor": 2
}
