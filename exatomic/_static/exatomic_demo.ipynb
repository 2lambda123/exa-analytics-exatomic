{
 "cells": [
  {
   "cell_type": "markdown",
   "metadata": {},
   "source": [
    "### Welcome to exatomic! Let's get started"
   ]
  },
  {
   "cell_type": "code",
   "execution_count": 1,
   "metadata": {
    "collapsed": true
   },
   "outputs": [],
   "source": [
    "import os\n",
    "import sys\n",
    "sys.path.insert(0, '/home/tjd/Programs/analytics-exa/exa-tjd')\n",
    "sys.path.insert(0, '/home/tjd/Programs/analytics-exa/exatomic-tjd')\n",
    "import exa\n",
    "import exatomic"
   ]
  },
  {
   "cell_type": "markdown",
   "metadata": {},
   "source": [
    "### Here are some test demo containers to play around with"
   ]
  },
  {
   "cell_type": "code",
   "execution_count": 3,
   "metadata": {
    "collapsed": false
   },
   "outputs": [],
   "source": [
    "c = exa.Container()\n",
    "u = exatomic.Universe()"
   ]
  },
  {
   "cell_type": "code",
   "execution_count": 4,
   "metadata": {
    "collapsed": false
   },
   "outputs": [],
   "source": [
    "# Uncomment one of the following lines to show the container\n",
    "#c\n",
    "#u"
   ]
  },
  {
   "cell_type": "markdown",
   "metadata": {},
   "source": [
    "### exatomic universes in principle contain a QM/MD calculation or set of calculations\n",
    "\n",
    "The following dataframes are currently supported as properties of the universe with their associated required columns\n",
    "<li> Frame -- ['atom_count']\n",
    "<li> Atom -- ['symbol', 'x', 'y', 'z', 'frame']\n",
    "<li> Two -- ['distance', 'atom0', 'atom1', 'frame']\n",
    "\n",
    "This constitutes all the required information to visualize an MD trajectory (or geometry optimization, etc.). However, there are more dataframes that allow for increased functionality.\n",
    "<li> AtomicField\n",
    "<li> Molecule\n",
    "<li> Overlap\n",
    "<li> BasisSet\n",
    "\n",
    "An exhaustive list can be found in the documentation or on readthedocs.org"
   ]
  },
  {
   "cell_type": "markdown",
   "metadata": {},
   "source": [
    "### There are convenience methods for immediate access to your data\n",
    "exatomic.XYZ('/path/to/xyz/or/trajectory')\n",
    "\n",
    "exatomic.Cube('/path/to/cube/file')"
   ]
  },
  {
   "cell_type": "markdown",
   "metadata": {},
   "source": [
    "### Try it out!"
   ]
  },
  {
   "cell_type": "code",
   "execution_count": 5,
   "metadata": {
    "collapsed": true
   },
   "outputs": [],
   "source": [
    "myxyz = exatomic.XYZ(os.sep.join([os.getcwd(), 'porphyrin.xyz']))"
   ]
  },
  {
   "cell_type": "code",
   "execution_count": 6,
   "metadata": {
    "collapsed": false
   },
   "outputs": [
    {
     "name": "stdout",
     "output_type": "stream",
     "text": [
      " 0: 77\n",
      " 1: \n",
      " 2: Zn       0.0001020000      0.0000610000     -0.0000930000                 \n",
      " 3: N       -2.0639810000      0.1236670000     -0.0005710000                 \n",
      " 4: N        0.1256270000      2.0639500000      0.0023410000                 \n",
      " 5: N       -0.1255270000     -2.0639170000      0.0004140000                 \n",
      " 6: N        2.0640740000     -0.1236120000     -0.0023860000                 \n",
      " 7: C       -2.9602730000     -0.9458250000     -0.0000300000                 \n",
      " 8: C       -4.3225600000     -0.4275890000      0.0129980000                 \n",
      " 9: C       -4.2390980000      0.9447700000      0.0116300000                  "
     ]
    }
   ],
   "source": [
    "myxyz.head()"
   ]
  },
  {
   "cell_type": "markdown",
   "metadata": {},
   "source": [
    "### But that is just the text file, you say! (pardon the temporary clunky API)"
   ]
  },
  {
   "cell_type": "code",
   "execution_count": 7,
   "metadata": {
    "collapsed": false,
    "scrolled": true
   },
   "outputs": [],
   "source": [
    "myxyz.frame = exatomic.frame.compute_frame_from_atom(myxyz.atom)\n",
    "uni = myxyz.to_universe()"
   ]
  },
  {
   "cell_type": "code",
   "execution_count": 8,
   "metadata": {
    "collapsed": false
   },
   "outputs": [
    {
     "name": "stdout",
     "output_type": "stream",
     "text": [
      "x\n",
      "y\n",
      "z\n",
      "xi\n",
      "xj\n",
      "xk\n",
      "yi\n",
      "yj\n",
      "yk\n",
      "zi\n",
      "zj\n",
      "zk\n",
      "ox\n",
      "oy\n",
      "oz\n",
      "frame\n"
     ]
    },
    {
     "data": {
      "text/plain": [
       "<exatomic.container.Universe at 0x7fc3e9fadc50>"
      ]
     },
     "execution_count": 8,
     "metadata": {},
     "output_type": "execute_result"
    }
   ],
   "source": [
    "uni"
   ]
  },
  {
   "cell_type": "markdown",
   "metadata": {},
   "source": [
    "### There we go. Our porphyrin looks pretty good. Check out the GUI controls"
   ]
  },
  {
   "cell_type": "markdown",
   "metadata": {},
   "source": [
    "### So what happened above?\n",
    "\n",
    "exatomic.XYZ is a wrapper around exatomic.Editor, the base class for dealing with file I/O in exatomic. The base class has a to_universe method which converts an exatomic.Editor to an exatomic.Universe, which ships our data to javscript to be visualized right in a widget in the notebook."
   ]
  },
  {
   "cell_type": "markdown",
   "metadata": {},
   "source": [
    "### So... Avogadro in the notebook? Surely it won't scale..."
   ]
  },
  {
   "cell_type": "code",
   "execution_count": 3,
   "metadata": {
    "collapsed": true
   },
   "outputs": [],
   "source": [
    "from exa.relational.isotope import z_to_symbol\n",
    "mapper = z_to_symbol()"
   ]
  },
  {
   "cell_type": "code",
   "execution_count": 8,
   "metadata": {
    "collapsed": false
   },
   "outputs": [],
   "source": [
    "amount = 1000000\n",
    "xs = 100 * np.random.rand(amount)\n",
    "ys = 100 * np.random.rand(amount)\n",
    "zs = 100 * np.random.rand(amount)\n",
    "syms = pd.Series([1] * amount).map(mapper)\n",
    "frame = [0] * amount\n",
    "labels = list(range(amount))\n",
    "atom = pd.DataFrame.from_dict({'x': xs, 'y': ys, 'z': zs, 'symbol': syms, 'frame': frame, 'label': labels})\n",
    "atom.index.name = 'atom'\n",
    "atom = exatomic.atom.Atom(atom)\n",
    "frame = exatomic.frame.compute_frame_from_atom(atom)\n",
    "scuni = exatomic.Universe(atom=atom, frame=frame)\n",
    "#symbols = linotebookst(map(lambda x: exa.relational.Isotope.Z_to_symbol[i], [1] * 1000000))"
   ]
  },
  {
   "cell_type": "code",
   "execution_count": 9,
   "metadata": {
    "collapsed": false
   },
   "outputs": [
    {
     "name": "stdout",
     "output_type": "stream",
     "text": [
      "xi\n",
      "xj\n",
      "xk\n",
      "yi\n",
      "yj\n",
      "yk\n",
      "zi\n",
      "zj\n",
      "zk\n",
      "ox\n",
      "oy\n",
      "oz\n",
      "frame\n",
      "x\n",
      "y\n",
      "z\n"
     ]
    },
    {
     "data": {
      "text/plain": [
       "<exatomic.container.Universe at 0x7f8ff26dcfd0>"
      ]
     },
     "execution_count": 9,
     "metadata": {},
     "output_type": "execute_result"
    }
   ],
   "source": [
    "scuni"
   ]
  },
  {
   "cell_type": "code",
   "execution_count": null,
   "metadata": {
    "collapsed": true
   },
   "outputs": [],
   "source": [
    "aa"
   ]
  }
 ],
 "metadata": {
  "kernelspec": {
   "display_name": "Python 3",
   "language": "python",
   "name": "python3"
  },
  "language_info": {
   "codemirror_mode": {
    "name": "ipython",
    "version": 3
   },
   "file_extension": ".py",
   "mimetype": "text/x-python",
   "name": "python",
   "nbconvert_exporter": "python",
   "pygments_lexer": "ipython3",
   "version": "3.5.1"
  }
 },
 "nbformat": 4,
 "nbformat_minor": 0
}
